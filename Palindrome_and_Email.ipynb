{
 "cells": [
  {
   "cell_type": "code",
   "execution_count": 1,
   "metadata": {},
   "outputs": [
    {
     "name": "stdout",
     "output_type": "stream",
     "text": [
      "Palindrome length: 27\n",
      "Palindrome: ['civic', 'dad', 'degged', 'detartrated', 'dewed', 'eve', 'evitative', 'kayak', 'level', 'madam', 'malayalam', 'mom', 'noon', 'racecar', 'radar', 'redder', 'refer', 'revver', 'rotator', 'rotor', 'sagas', 'selles', 'solos', 'stats', 'tattarrattat', 'tenet', 'wow']\n",
      "Length of valid Email IDs: 187\n",
      "Valid Email IDs: \n",
      " ['iuvmq4q7n3bx3@dyakxaz.cbj', 'n3f30khh5@dnryla.qmter', 'b0gqkztg22eoo8r9d2@fpdlwhk.ypmy', 'uv3s5fv3tcc45kw1@uxyeuxs.swbh', 'rageel8jp0sqx1hevma7wu@mtzo.ggsxv', 'handcjqotrtukc6fgn@aogxg.urid', 'nfstf7f7iyul@qrepo.yulz', 'szcwxnduemr7yg@xkk.ceob', 'beastsvj6flxac0sbylrplcb@zjzgk.wuvw', 'yynxamdeuj7hsb@xdcjxue.grn', 'tpzxgii62o84z4crh6@joqcay.qat', 'cs7bnboyjptjk@vqlxuw.qessj', 'fk0tsbt32vj9l6tte371@texng.nklzk', 'ijuxxsy7e7hx8oj@oxfkc.znjq', 'sunkignyrbncd@huqsn.egfsr', 'at4fd0v4bb99a@zpfxp.mocx', 'bvc8pzmtp7h@wpt.ujaha', 'liveszqd6r8r59lsgd82by@lcjnlc.dmt', 'uck0zh3s134oi06zes5@fgcw.ehm', 'ausykwwigrtr@dujlxi.wpwd', 'handsiuvys57rtniv4zv@uks.jezae', 'dntbbf53svd36nhh@yaoe.hvrsl', 'woegiz4r1n7nljhyrw5b81@kgzb.yyb', 'growep5vkx6as@odejzc.gyffh', 'bqey0u2sfl94p46gi@tmld.fzvu', 'gcpt6fhqjfs8@huozn.lukyo', 'zl13c358m97q@fluf.ryd', 'deadqp5pqnzwhsyn@ckwop.uhl', 'h0aruellrbkkss3bm@mfmg.ydytf', 'treesi6s4vqzx2urjkd@bgxrt.whg', 'av2j1nkzx88gw3@gjmzsqs.gfevd', 'qbudcjo9urbj@gxnpbkp.myy', 'welludxbd2b0qt@zneo.gex', 'vde4o8yecwip9qny3ia@llnxzsi.myfp', 'tx0y9k20cflmq72@rpbq.awmc', 'ok7ghw3xe5s@dhvq.dbfhw', 'sirxt3pm0hxo2cxs2rtg@bfcfm.hbual', 'z9tqzl6t1q9mdo@hufqbvy.bhmr', 'y4uamwppzvh99gtxx3@dro.ewwpm', 'ikgp3fh71ytoh5@sfe.nksyn', 'wdq1htxngb1yrnzy31@rcbml.awwi', 'mngagvfnelzdi@pouwn.pkvox', 'afternoonvdlz1vac62qn0s9@rwd.qok', 'departp4v1767nchfheaw@hqs.xpjfm', 'krkv3xvdqb@ovuccgk.cokfh', 'peaceuy1x93147rbjf9hq@oebpu.qougc', 't07yz42l7jt4npxfbr@xze.wxqf', 'hcs6tf9t8od7zf@wkxsuwb.sccb', 'uncleangsxmdr8sy6@rgvc.ohby', 'pnm8t9q6llw4ex0@zaidf.asm', 'i5v4g2fb9srhmnhj9@ecpj.pjk', 'sebuii5amd3t@fskpvw.qyijx', 'mutinysaw1mxdkait20pxypw8@jvastj.brsc', 'dignitynutk7iyzcpy@ukuh.klvb', 'princejo5s1gk7lrp6291cx5@pil.lvj', 'himon1jv8k9@uia.ouwos', 'lczolhtextc01wkf1@ohiyp.oek', 'nbm7xpyepuvfqne4@nqi.xtktu', 'Franciscangbjyvj3sjna0ak6ab0v0@xcaxikm.qqd', 'cor6wjlg1fqiu@lju.hbffs', 'sqr5n75ei@gfjjf.jhf', 'ablhjov0r6ma@yzud.nxr', 'r7oo84rnnduc@sizusmv.ztmv', 'standhifuq7k8g@xtwpw.ibb', 'h6vbbvzq61k8ybfva@yehidpt.rjis', 'againu11fdvirjri0@haavrgi.zsxf', 'de9h4ap6o57ke1b94@gisojj.nse', 'tik2bluemzypodc@rsyv.veo', 'thoughtsevotlzxzef@apenueq.yiwf', 'jbtuw6bwgal0h3@bhpyitc.dzgum', 'cpqzhgsa88@ghd.rti', 'y33aiq4fu@zfakyh.obe', 'Veronaywkw6zztqhfkg5@jeva.ujkee', 'glwy44abd6gjedeipt8@begh.mpj', 'ornamentsfap2q2w5cvuo3@mko.gqjw', 'motyqaqskgl4@lzr.aoluz', 'j0nh2fe8ku8w@hshcvnr.kvnc', 'headgscsi3d9mivsw3i0@bksn.dfnr', 'yvpv77okgt@eypeur.egso', 'trimvahl7uz90yyi@lvdffz.vmdr', 'ibhwf605s@wcvj.gvgf', 'wordpukvbzgqyw3zqk@waxvcc.ueum', 'youis35lruh4b9fbw@nnpnvc.vqho', 'fjngmf2cw3tw@btung.yxdqp', 'w304719dkj@jjadixh.jcwom', 'uotnmw28cys3cglg9i@gypudm.kmzx', 'lp7ep57k1@vjpz.ownb', 'cll0wm8i7tb9v5c8@yssib.ibe', 'b22zy8vf17@fqqkqkl.vgyr', 'Princepdihg8f38@mjeaewn.xogln', 'gsu02z5tg6f2jpa@iedryy.fynm', 'otherig0ll7gwnpjubr6o3@yma.ibkn', 'Montagueovjpzzlt@fjdl.wotup', 'Montaguei6hrbqncycyisgylqg@phgwoh.txdf', 'peacerdxvmqkj8@pnxe.xou', 'bsy0ecux@gdgzqu.oshac', 'o4o4ea6vi1ts9mc7w9@vzifvzu.jlu', 'wjk1pk1l61jopwmue8@hcw.ckup', 'jvxukx5klvwq7wyqvn3@rpdlp.qupz', 'marklp2cjzsiwzbybtbz@thhq.dkqt', 'xnvotzc1vius@tcubxd.vsei', 'againayd65ueqb5y@kwek.bdk', 'rcawpqha1@fxc.enyxs', 'newsmb943xhpi0p8f@wltfa.hjhq', 'himsntoizy0i0093tpq66nq@yazgy.fzdlg', 'aed6peyq11afy2@uucdf.yfjf', 'nightzntfl1682vlp@jxjunwf.loqrr', 'placefc45wtkf1xoefn@fmoof.nik', 'illi9yeogax@vpox.qeod', 'rbdhbweq8enb3ic64@imkufsb.okq', 'attendf1tgozv37pq8p7guq@qlrsbj.qwpn', 'liedz5upmktvpgzjves0@qri.jtkgn', 'bm7z8xmzzscmfd1wdd@uxf.gemd', 'djpz6ji37m4a@chqptm.ijz', 'sleepnnp5o9dch87q4qee1@qwr.dbfkd', 'himfuhvryddwpd@zgk.rva', 'oz4khvm15oku@szwgpqd.jxcqi', 'familylbe8f9iiax0djs1yz@hbt.gmf', 'mvcqvqie@ctxxet.een', 'Romeosqoqr6sq2ju8@azg.roua', 'g8iqa8getszlq63ms@oxwpy.bma', 'Capuletzs87njhdes8tjici393@ekwb.lfiwf', 'fmgyu92xofvec2xki@mlpzjfw.iha', 'ubicue030emcnc2bzm0a@tqazt.nvjw', 'ph4yqwchfpo@dfwu.wlsyx', 'q7shpcrr4g3@nye.wzj', 'fagpbm82c7rraxlp0@ljpat.miol', 'Capuletwh38h4h6lyn640@zjsfw.onip', 'wordlnt0chwmce@odlfmsg.czka', 'Romeoxrqdbioarhbfs17j@zvcfo.yzbmt', 'ndt3kzott4pby@oudx.xaafo', 'kketji2q1yto28@lrsw.chyu', 'pmup32p43o86y@cgt.erz', 'pna62mwj0nu8nic1zmnn@icndyix.tkpz', 'zcse6ooki93w8@pmyngkg.zqk', 'h57wlcaoh1t068k0pbn@zmkqf.lec', 'bringsowf95dlusavfm0@mgnt.cwffh', 'iu5mys3u1nctx@pht.eozxi', 'upbp7hryuxtaxbyae5@tmswh.elry', 'lzg4xder5oqlrb6@hcfw.wzcuk', 'heiru7373xzc@ergp.bzak', 'lipz7c4mxf25e9ur@ufczah.mtpei', 'darkdyrol7ooba@rxbwfw.rsr', 'kd17s4jyqg6th7@leqc.lgjjz', 'va2tkmv7mugoll7ct@gkof.muin', 'reonh68o97wv31t1dv@amu.mdx', 'znmtb1gvwrgg1@fdheopu.jybi', 'si13j9vp1as1r@etqst.ixz', 'casevbmlkufsxx@wdxk.afiu', 'ecipd72f20pjuv@sgdzje.vwb', 'rldq84nc7zoy2qmzl@bhhin.uaa', 'uzdl9pzl0vcq0bxamv@ydhkbb.bvcpg', 'discoveryxde6os814hky@tvegmzu.kytff', 'airw39l1gwzkpp2ui6@cbydl.pcnph', 'knowybsupa307334a@nug.apo', 'invocationpaki0t2zr@bep.upo', 'thighbp9j08yu2iw11rnd@qdae.qtei', 'vg0yl7kboy1j58@eoex.bvsmk', 'Romeovpcp9caghcr@lbyne.tbjp', 'n583oqoppsq7l7n@lfio.yrnv', 'got3n1ssga@tvipr.pzh', 'uj21scphh9@nniipol.uqsbr', 'kk9d8wrybje4d@obm.bbk', 'bzj3ecf6wwve@wnesmyx.icur', 'foesxhgi0x6bv8@vmcokyb.fru', 'ae6a1cldqgv7ehac@xmrvbz.gbtr', 'qt1xdz0vm1g5@sqtngm.znopj', 'iaitl1wyb@nwoon.erzwu', 'closeich7t807sde2n9one@xms.cnwb', 'xp5zlrczgyouufwstkgl@rzbkrv.wiy', 'otherldqjp8mh32i322e@kbmmo.obny', 'scenear2kg967q7xaisqarw@cbyju.wyxz', 'puhkp6dk5saq2@vwn.ydunl', 'oldcj541ycl4zvr4trtz6v@urfgq.jxcxw', 'ruwim8sfvda5zsbhe3fi@sre.cykb', 'wl3r2hekuigu3ibi3v@zoki.iuiv', 'groundpyvg5owvztn4jwwl@fsaejve.byv', 'zh1zo34fqvci1zkz6q@phgjmn.tioh', 'elfdkjs9j6g3e31m0g@jstwih.gvdf', 'ft7q3lsv48j@akrf.qbhb', 'xahceyxppsa4vlbjmg@zdrke.zaw', 'wormuzrqj7lkgbq@xtrv.qzsf', 'kte9rck0vq5uqybko@cnu.azba', 'np2ew0ak7585saxo@kbb.pqg', 'awayufwo3co1coz3z19c14o@mhdn.bis', 'ggrcdcnl5awbidey5@agtojk.nld', 'oddlyiwiqsvea64bny@pwplb.nzted']\n"
     ]
    }
   ],
   "source": [
    "import re\n",
    "words=[f.readline() for f in [open(\"pali.txt\"),open(\"email.txt\")]]\n",
    "palin=[]\n",
    "\n",
    "[palin.append(w) for w in words[0].strip(\" \").split(\",\") if(w.lower()==w[::-1].lower())]\n",
    "print(\"Palindrome length:\",len(palin))\n",
    "palin.sort()\n",
    "print(\"Palindrome:\", palin)\n",
    "\n",
    "email=[]\n",
    "final_email=[]\n",
    "[[email.append(i) for i in w.split(\" \") if (\"@\" in i)]for w in words[1].strip(\" \").split(\",\")]\n",
    "[final_email.append(i) for i in email if(re.match(\"^[0-9A-Za-z.]+$\",i.partition(\"@\")[0]) and not(i.partition(\"@\")[0].startswith('.') or i.partition(\"@\")[0].endswith('.'))  and i.partition(\"@\")[0].count(\".\")<2 and not(re.match(\"^[&@=_'-+,><0-9]+$\",i.partition(\"@\")[2].rpartition('.')[0])) and i.partition(\"@\")[2].rpartition('.')[2].isalpha())]\n",
    "print(\"Length of valid Email IDs:\",len(final_email))\n",
    "print(\"Valid Email IDs: \\n\",final_email)"
   ]
  },
  {
   "cell_type": "code",
   "execution_count": null,
   "metadata": {},
   "outputs": [],
   "source": []
  }
 ],
 "metadata": {
  "kernelspec": {
   "display_name": "Python 3",
   "language": "python",
   "name": "python3"
  },
  "language_info": {
   "codemirror_mode": {
    "name": "ipython",
    "version": 3
   },
   "file_extension": ".py",
   "mimetype": "text/x-python",
   "name": "python",
   "nbconvert_exporter": "python",
   "pygments_lexer": "ipython3",
   "version": "3.7.3"
  }
 },
 "nbformat": 4,
 "nbformat_minor": 4
}
